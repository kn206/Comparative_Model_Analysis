{
  "nbformat": 4,
  "nbformat_minor": 0,
  "metadata": {
    "colab": {
      "provenance": [],
      "authorship_tag": "ABX9TyPCMPavVUgIDyzobl5SyPEf",
      "include_colab_link": true
    },
    "kernelspec": {
      "name": "python3",
      "display_name": "Python 3"
    },
    "language_info": {
      "name": "python"
    }
  },
  "cells": [
    {
      "cell_type": "markdown",
      "metadata": {
        "id": "view-in-github",
        "colab_type": "text"
      },
      "source": [
        "<a href=\"https://colab.research.google.com/github/kn206/Comparative_Model_Analysis/blob/main/IPO_algorithm.ipynb\" target=\"_parent\"><img src=\"https://colab.research.google.com/assets/colab-badge.svg\" alt=\"Open In Colab\"/></a>"
      ]
    },
    {
      "cell_type": "code",
      "source": [
        "# Logic Exercise - Determine each person's job\n",
        "\n",
        "# Given information\n",
        "# Brown, Jones, and Smith are three friends.\n",
        "# One is a project manager, one is a consultant, and one is a programmer.\n",
        "# The programmer, who is an only child, earns the least money.\n",
        "# Smith, who married Brown's sister, earns more than the consultant.\n",
        "\n",
        "# Deductions:\n",
        "# - The programmer is an only child, so he cannot be married to anyone.\n",
        "# - Smith, who married Brown's sister, cannot be the programmer.\n",
        "# - This leaves us with two possibilities - Smith and Brown for the positions of project manager and consultant.\n",
        "# - Let's assume Smith is the project manager and Brown is the consultant.\n",
        "# - Since Smith earns more than the consultant, Brown must be the consultant.\n",
        "\n",
        "# Final Solution:\n",
        "# - Brown is the consultant.\n",
        "# - Smith is the project manager.\n",
        "# - Jones is the programmer.\n",
        "\n",
        "# Algorithm with IPO (Input, Processing, Output)\n",
        "def calculate_brew_ratio():\n",
        "    # Input\n",
        "    dose = float(input(\"Enter the dose (in grams): \"))\n",
        "    yield_ = float(input(\"Enter the yield (in grams): \"))\n",
        "\n",
        "    # Processing\n",
        "    brew_ratio = dose / yield_\n",
        "\n",
        "    # Output\n",
        "    print(f\"A dose of {dose}g and yield of {yield_}g is a {brew_ratio:.2f} brew ratio.\")\n",
        "\n",
        "# Algorithm with Decision\n",
        "def can_afford_item():\n",
        "    # Input\n",
        "    item_price = float(input(\"Enter the price of the item: \"))\n",
        "    money_in_pocket = float(input(\"Enter the money you have in your pocket: \"))\n",
        "\n",
        "    # Processing and Decision\n",
        "    if money_in_pocket >= item_price:\n",
        "        print(\"You can afford to buy the item.\")\n",
        "    else:\n",
        "        print(\"You cannot afford to buy the item.\")\n",
        "\n",
        "# Algorithm with Repetition\n",
        "def clean_teens_room():\n",
        "    # Instructions\n",
        "    print(\"Instructions for a teenager to clean their room:\")\n",
        "    print(\"Start picking up things from the floor.\")\n",
        "    things_on_floor = True\n",
        "\n",
        "    while things_on_floor:\n",
        "        user_input = input(\"Is there still anything on the floor? (yes/no): \").lower()\n",
        "        if user_input == \"no\":\n",
        "            things_on_floor = False\n",
        "\n",
        "    print(\"The room is now clean.\")\n",
        "\n",
        "# Main menu\n",
        "print(\"Select an option:\")\n",
        "print(\"1. Determine each person's job\")\n",
        "print(\"2. Calculate brew ratio of coffee\")\n",
        "print(\"3. Check if you can afford an item\")\n",
        "print(\"4. Instruct a teenager to clean their room\")\n",
        "\n",
        "choice = input(\"Enter the option number: \")\n",
        "\n",
        "if choice == \"1\":\n",
        "    print(\"Determine each person's job:\")\n",
        "    print(\"Brown is the consultant.\")\n",
        "    print(\"Smith is the project manager.\")\n",
        "    print(\"Jones is the programmer.\")\n",
        "elif choice == \"2\":\n",
        "    calculate_brew_ratio()\n",
        "elif choice == \"3\":\n",
        "    can_afford_item()\n",
        "elif choice == \"4\":\n",
        "    clean_teens_room()\n",
        "else:\n",
        "    print(\"Invalid option.\")\n"
      ],
      "metadata": {
        "colab": {
          "base_uri": "https://localhost:8080/"
        },
        "id": "HSdPZ1zb86Xi",
        "outputId": "bd3ec0ae-b6ff-41ad-b9b4-3c27aaf5bdeb"
      },
      "execution_count": 7,
      "outputs": [
        {
          "output_type": "stream",
          "name": "stdout",
          "text": [
            "Select an option:\n",
            "1. Determine each person's job\n",
            "2. Calculate brew ratio of coffee\n",
            "3. Check if you can afford an item\n",
            "4. Instruct a teenager to clean their room\n",
            "Enter the option number: 2\n",
            "Enter the dose (in grams): 8\n",
            "Enter the yield (in grams): 23\n",
            "A dose of 8.0g and yield of 23.0g is a 0.35 brew ratio.\n"
          ]
        }
      ]
    }
  ]
}